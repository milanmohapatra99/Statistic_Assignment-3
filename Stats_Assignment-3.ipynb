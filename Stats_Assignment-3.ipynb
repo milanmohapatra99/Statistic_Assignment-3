{
 "cells": [
  {
   "cell_type": "markdown",
   "id": "d4e669f3",
   "metadata": {},
   "source": [
    "# Q1. What is the probability density Function?"
   ]
  },
  {
   "cell_type": "markdown",
   "id": "cc054404",
   "metadata": {},
   "source": [
    "Ans : probability density function (PDF) is used to define the continious random variable’s probability coming within a distinct range of values, as opposed to taking on any one value. The function explains the probability density function of normal distribution and how mean and deviation exists.\n",
    "\n",
    "In other words, the probability density function produces the likelihood of values of the continuous random variable. Sometimes it is also called a probability distribution function or just a probability function."
   ]
  },
  {
   "cell_type": "markdown",
   "id": "f78ee73c",
   "metadata": {},
   "source": [
    "# Q2. What are the types of Probability distribution?"
   ]
  },
  {
   "cell_type": "markdown",
   "id": "226dcfc4",
   "metadata": {},
   "source": [
    "Ans: There are two types of probability distributions:\n",
    "\n",
    "1-Discrete probability distributions : A discrete probability distribution is a probability distribution of a categorical or discrete variable.\n",
    "    \n",
    "   Discrete probability distributions only include the probabilities of values that are possible. In other words, a discrete probability distribution doesn’t include any values with a probability of zero. \n",
    "\n",
    "2-Continuous probability distributions : A continuous probability distribution is the probability distribution of a continuous variable.\n",
    "\n",
    "   A continuous variable can have any value between its lowest and highest values. Therefore, continuous probability distributions include every number in the variable’s range.\n",
    "\n"
   ]
  },
  {
   "cell_type": "markdown",
   "id": "b9e83e3a",
   "metadata": {},
   "source": [
    "# Q3. Write a python Function to calculate the probability density function of a normal distribution with given mean and standard deviaton at a given point."
   ]
  },
  {
   "cell_type": "code",
   "execution_count": 2,
   "id": "73f95416",
   "metadata": {},
   "outputs": [
    {
     "name": "stdout",
     "output_type": "stream",
     "text": [
      "0.0721672107238069\n"
     ]
    }
   ],
   "source": [
    "from scipy.stats import norm\n",
    "import numpy as np\n",
    "\n",
    "data_start = -7\n",
    "data_end = 7\n",
    "data_points = 13\n",
    "data = np.linspace(data_start, data_end, data_points)\n",
    "\n",
    "mean = np.mean(data)\n",
    "std = np.std(data)\n",
    "\n",
    "probability_pdf = norm.pdf(3, loc=mean, scale=std)\n",
    "print(probability_pdf)\n"
   ]
  },
  {
   "cell_type": "markdown",
   "id": "dd1c3479",
   "metadata": {},
   "source": [
    "# Q4. What are the properties of Binomial distribution? Give two example of events where binomial distribution can be applied."
   ]
  },
  {
   "cell_type": "markdown",
   "id": "00ef791d",
   "metadata": {},
   "source": [
    "Ans: Properties of Binomial Distribution:-\n",
    "        \n",
    "The properties of the binomial distribution are:\n",
    "\n",
    "1- There are two possible outcomes: true or false, success or failure, yes or no.\n",
    "\n",
    "2- There is ‘n’ number of independent trials or a fixed number of n times repeated trials.\n",
    "\n",
    "3- The probability of success or failure remains the same for each trial.\n",
    "\n",
    "4- Only the number of success is calculated out of n independent trials.\n",
    "\n",
    "5- Every trial is an independent trial, which means the outcome of one trial does not affect the outcome of another trial.\n",
    "\n",
    "Example: If a coin is tossed 5 times, find the probability of:\n",
    "\n",
    "(a) Exactly 2 heads: \n",
    "\n",
    "Solution: The repeated tossing of the coin is an example of a Bernoulli trial. According to the problem:\n",
    "\n",
    "Number of trials: n=5\n",
    "\n",
    "Probability of head: p= 1/2 and hence the probability of tail, q =1/2\n",
    "\n",
    "For exactly two heads:\n",
    "\n",
    "x=2\n",
    "\n",
    "P(x=2) = 5C2 p2 q5-2 = 5! / 2! 3! × (½)2× (½)3\n",
    "\n",
    "P(x=2) = 5/16\n",
    "\n",
    "\n",
    "(b) Getting at least 2 heads:\n",
    "\n",
    "Solution: P (at most 2 heads) = P(X ≤ 2) = P (X = 0) + P (X = 1)\n",
    "\n",
    "P(X = 0) = (½)5 = 1/32\n",
    "\n",
    "P(X=1) = 5C1 (½)5.= 5/32\n",
    "\n",
    "Therefore,\n",
    "\n",
    "P(X ≤ 2) = 1/32 + 5/32 = 3/16"
   ]
  },
  {
   "cell_type": "markdown",
   "id": "51151279",
   "metadata": {},
   "source": [
    "# Q5. Generate a random sample of size 100 from a binomial distribution with probability of success 0.4 and plot a histogram of the result using matplotlib."
   ]
  },
  {
   "cell_type": "code",
   "execution_count": 8,
   "id": "1336df57",
   "metadata": {},
   "outputs": [
    {
     "data": {
      "image/png": "[encoded data removed]",
      "text/plain": [
       "<Figure size 432x288 with 1 Axes>"
      ]
     },
     "metadata": {
      "needs_background": "light"
     },
     "output_type": "display_data"
    }
   ],
   "source": [
    "from numpy import random\n",
    "import matplotlib.pyplot as plt\n",
    "\n",
    "plt.hist(random.binomial(n=100, p=0.4, size=100), label='binomial')\n",
    "\n",
    "\n",
    "plt.show()"
   ]
  },
  {
   "cell_type": "markdown",
   "id": "aceba36a",
   "metadata": {},
   "source": [
    "# Q6. Write a Python function to calculate the cumulative distribution function of a Poission distribution with given mean at a given point."
   ]
  },
  {
   "cell_type": "code",
   "execution_count": 10,
   "id": "c268f084",
   "metadata": {},
   "outputs": [
    {
     "name": "stdout",
     "output_type": "stream",
     "text": [
      "[0.    0.001 0.006 0.021 0.055 0.116 0.207 0.324 0.456 0.587 0.706 0.803\n",
      " 0.876 0.926 0.959 0.978 0.989 0.995 0.998]\n"
     ]
    }
   ],
   "source": [
    "import numpy as np\n",
    "from scipy.stats import poisson\n",
    "k = np.arange(0, 19)\n",
    "cdf = poisson.cdf(k, mu=9)\n",
    "cdf = np.round(cdf, 3)\n",
    "\n",
    "print(cdf)\n"
   ]
  },
  {
   "cell_type": "markdown",
   "id": "fd7dabc3",
   "metadata": {},
   "source": [
    "# Q7. How Binomial distribution different from Poission distribution?"
   ]
  },
  {
   "cell_type": "markdown",
   "id": "1fb7e0c2",
   "metadata": {},
   "source": [
    "Binomial distribution describes the distribution of binary data from a finite sample. Thus it gives the probability of getting r events out of n trials. Poisson distribution describes the distribution of binary data from an infinite sample. Thus it gives the probability of getting r events in a population.\n",
    "\n",
    "The binomial distribution is one, whose possible number of outcomes are two, i.e. success or failure. On the other hand, there is no limit of possible outcomes in Poisson distribution.\n",
    "\n",
    "In Binomial distribution Mean > Variance, on the otherhand in poission distribution\tMean = Variance.\n",
    "\n",
    "Binomial Distribution is biparametric, i.e. it is featured by two parameters n and p whereas Poisson distribution is uniparametric, i.e. characterised by a single parameter m.\n",
    "\n",
    "The success probability is constant in binomial distribution but in poisson distribution, there are an extremely small number of success chances.\n",
    "\n",
    "There are a fixed number of attempts in the binomial distribution. On the other hand, an unlimited number of trials are there in a poisson distribution."
   ]
  },
  {
   "cell_type": "markdown",
   "id": "97de1c53",
   "metadata": {},
   "source": [
    "# Q8. Generate a random sample size 1000 from a Poission distribution with mean 5 and calculate the sample mean and variance."
   ]
  },
  {
   "cell_type": "code",
   "execution_count": 4,
   "id": "5bfc0528",
   "metadata": {},
   "outputs": [
    {
     "name": "stdout",
     "output_type": "stream",
     "text": [
      "[ 2  7  5  4  9  4  5  5  8  4  3  5  4  6  4  5  8  4  6  5  4  4  9  3\n",
      "  6  4  5  6  4  4  6  7  4  7  4 14  5  5  3  6  6  4  5  0  5  8  9  3\n",
      "  8  6  4  5  6  2  6  3  5  9  2  2  5  3  4  6  2  0  2  6  4  6  3  3\n",
      " 10  5  4  4  9  8  6  9  8  1  5  5  7  4  5  6  1  4  6  3  7  2  8  3\n",
      "  7  8  4  6  3  8  8  2  6  4  3  9  7  5  6  5  5  3  8 10  3  5  5  6\n",
      "  0  5  6  4  4 11  7  5  5  3  6  3 11  2  2  9  6  3  3  7  6  4  6  4\n",
      "  6  7  5  5  4  2  3  6  3  4  7  6  5  5  4  5  5  5  6  5  6  7  5  1\n",
      "  3  4  8  7  2  8  6  5  3  3  6  5  6  5  5  9  6  2  2  4  4  6  6  5\n",
      "  4  6  7  3  5  5  6  6  6  7  3  4  2  1  4  4  2  9  5  4  4  1  6  7\n",
      "  3  1  3  6  5  3  8  7  6  2  4  4  7  2  0  2  9  1  8  7  7  6  6  3\n",
      "  3  4  4  2  4  7  5  5  8  1  5  2  5  2  3  4  8  2  5  9  4  3  7  6\n",
      "  3  4  6  7  9  3  4  2  5  5  4  6  8  7  9  6  4  2  8 10  4  7  7  3\n",
      "  6  3  7  2  7  2  1  5  4  5  3  4  5  6  7  3  6  5  4  4  7  7  5  5\n",
      "  5  4  4  3  7  4  5  2  7  3  5  4  2  3 12  6  4  4 13  7  1  7  8  4\n",
      "  3  7 10  5  4  2  2  7  4  7  4  7  4  2  5  4  4  5  9  7  2  4  5  7\n",
      "  2 13  7  4  7  9  6  9  5  4  8  5  2  5  8  4  2  6  6  6  8  6  4  4\n",
      "  7  5  5  7  7  7  7  3 16  5  7  4  2  8  8  8  4  0  2  4  7  6  6  5\n",
      "  8  6  5  2  5  3  4  5  1  2  3  7  4  4  9  2  3  3  6 11  3  2  3  5\n",
      "  4 11  1  3  6  0  6  4  5  8  5  7 10  6  4  5  3  7  6  8  5  2  1  3\n",
      "  4  6  9  5  6  4  8  2  8  6  6  9  5  7  2  3  6  6  4  5  4  5  6  4\n",
      "  4  5  9  6 12  7  4  8  7  5  6  6  3  4  3  5  3  4  5  8  5  4  5  6\n",
      "  4  3  6  3  3  2  7  9  9  6  5  6  8  8  6  7  6  3  7  5  5  2  6  4\n",
      "  6  5 12  5  7  2  3  4  2  4  9  4  7  5  4  3  9  6  1  5  3  2  1  7\n",
      "  2  6  5  9  6  2  4  9  2  9  4  3  7  6  9  4  6  5  3  8  7  8  5  6\n",
      "  3  9  5  9  0  5  6  4 11  3  8  7  9  5  6  8  9  9  3  7  4  0  6  8\n",
      "  6 11  2  7  3  6  5  9  6  1  9  6  1  6  0  4  2  4  3  3  9  4  3  2\n",
      "  9  3  3  6  5  8  9  4  3  7  6  1  8  3  8  6  5  4  9  3  6  3  3  5\n",
      "  4  5  7  7  3  5  5  4  8  3  4  2  4  7  5  5  3 13  7  4  7  3  5  6\n",
      "  2  9  3  3  3  3  5  3  6  3  6  5  7  1  2  6 13  2  4  6  4  5  2  7\n",
      "  6  3  4  8  6  5  7  8  4  9  5  2  2  4  8  7  5  8  4 10  4  6  5  4\n",
      "  8  5  2  6  2  5  3  1  6  3  7  4  5  3 10  3  9  7  2  6  6  4  5  1\n",
      "  1  2  5  5  3  2  1  3  3  7  5  8  6  7  2  4  5  1  5  6  5  2  8  0\n",
      "  7  4  9  9 10  4  5 14  3  1  7  9  7  9  5  5  9  9  7  7  8  2  3  9\n",
      "  4  3  8  3  6  6  4  2  0  4  7  4  3  5  4  8  6  4  1  4  3  4  4  4\n",
      "  5  8  6  6 10  3  9  4  4  4  6  2  5  6  1  4  8  2  7  5  5  5  2  3\n",
      "  4  6  5  1 10  5  1  5  3  5  7  3  3  2  7  5  8  3  1  7  3  3  6  4\n",
      "  5  7  1  6  2  6  7  5  5  2  6  2  4  6  4  4  6  8  5  8  2  4  6  8\n",
      "  5  6  4  5  8  2  8  3  3  6  3  3  5  4  4  5  4  5  3  6 13  6  9  3\n",
      "  6  6  2  4  7  4  8  2  4  8  6  3  6  2  2  6  6  6  7  4  7  6  7  4\n",
      "  4  7  7 10  4  6  2  3  7  6  4  3  4  4  6  5  7  3  7  2  6  4  4  5\n",
      "  5  5  5  5  4  2  5  3  8  6  6  4  6  6 10  3  2  2  3  4  1  9  7  1\n",
      "  6  6  1  4  1  5  3  9  6  9  6  3  2  5  3  3]\n"
     ]
    }
   ],
   "source": [
    "from scipy.stats import poisson\n",
    "\n",
    "#generate Poisson distribution with sample size 1000 and mean 5\n",
    "x = poisson.rvs(mu=5, size=1000)\n",
    "\n",
    "print(x)"
   ]
  },
  {
   "cell_type": "markdown",
   "id": "997cf1d2",
   "metadata": {},
   "source": [
    "# Q9. How mean and variance are related in Binomial distribution and Poission distribution?"
   ]
  },
  {
   "cell_type": "markdown",
   "id": "6118f9ee",
   "metadata": {},
   "source": [
    "Ans: If X is a binomial variable, i.e., X~B(n,p), then the mean is E(X)=np and the variance is Var(X)=np(1-p), so they are related by Var(X)=(1-p)E(X).\n",
    "\n",
    "If Y is a Poisson variable, i.e, Y~Poi(λ), then the mean is E(Y)=λ and the variance is Var(Y)=λ, so the mean and the variance are the same."
   ]
  },
  {
   "cell_type": "markdown",
   "id": "8fea3ab7",
   "metadata": {},
   "source": [
    "# Q10. In normal distribution with respect to mean position, where does the least frequent data appear? "
   ]
  },
  {
   "cell_type": "markdown",
   "id": "fde3515d",
   "metadata": {},
   "source": [
    "most data points cluster toward the middle of the range, while the rest taper off symmetrically toward either extreme. The middle of the range is also known as the mean of the distribution.\n",
    "\n",
    "mean and indicates that values near the mean occur more frequently than the values that are farther away from the mean.\n",
    "\n",
    "With respect to mean position least frequent data appear father from mean value.\n",
    "\n",
    "mean is the central highest value of the bell curve. All other values in the distribution either cluster around it or are at some distance away from it. Changing the mean on a graph will shift the entire curve along the x-axis, either toward the left or toward the right."
   ]
  }
 ],
 "metadata": {
  "kernelspec": {
   "display_name": "Python 3 (ipykernel)",
   "language": "python",
   "name": "python3"
  },
  "language_info": {
   "codemirror_mode": {
    "name": "ipython",
    "version": 3
   },
   "file_extension": ".py",
   "mimetype": "text/x-python",
   "name": "python",
   "nbconvert_exporter": "python",
   "pygments_lexer": "ipython3",
   "version": "3.9.7"
  }
 },
 "nbformat": 4,
 "nbformat_minor": 5
}
